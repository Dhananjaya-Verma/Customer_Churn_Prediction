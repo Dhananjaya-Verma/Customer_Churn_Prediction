{
 "cells": [
  {
   "cell_type": "code",
   "execution_count": 2,
   "id": "e0d13c27-18cc-4501-ba2e-61e968c72037",
   "metadata": {},
   "outputs": [],
   "source": [
    "import pandas as pd\n",
    "import numpy as np\n",
    "import os\n",
    "import joblib\n",
    "\n",
    "from sklearn.model_selection import train_test_split, StratifiedKFold, cross_val_score\n",
    "from sklearn.pipeline import Pipeline\n",
    "from sklearn.compose import ColumnTransformer\n",
    "from sklearn.preprocessing import OneHotEncoder, StandardScaler\n",
    "from sklearn.metrics import accuracy_score, classification_report, confusion_matrix\n",
    "\n",
    "from sklearn.neighbors import KNeighborsClassifier\n",
    "from sklearn.svm import SVC\n",
    "from sklearn.linear_model import LogisticRegression"
   ]
  },
  {
   "cell_type": "code",
   "execution_count": 3,
   "id": "10a1c6f4-c9e7-47c8-81da-11a0fa288234",
   "metadata": {},
   "outputs": [],
   "source": [
    "DATA_PATH = \"D:/CSE(DataScience)/Customer_Churn_Prediction/Dataset/Telco-Customer-Churn-dataset.csv\"\n",
    "SAVE_DIR = \"D:/CSE(DataScience)/Customer_Churn_Prediction/models\"\n",
    "os.makedirs(SAVE_DIR, exist_ok=True)\n",
    "RANDOM_STATE = 42"
   ]
  },
  {
   "cell_type": "code",
   "execution_count": 4,
   "id": "5df09882-24ad-4e8f-a38b-f16b709c35fb",
   "metadata": {},
   "outputs": [
    {
     "name": "stdout",
     "output_type": "stream",
     "text": [
      "Original shape: (7043, 21)\n"
     ]
    }
   ],
   "source": [
    "df = pd.read_csv(r\"D:\\CSE(DataScience)\\Customer_Churn_Prediction\\Datasets\\Telco-Customer-Churn-dataset.csv\")\n",
    "print(\"Original shape:\", df.shape)"
   ]
  },
  {
   "cell_type": "code",
   "execution_count": 5,
   "id": "81ecbf00-073d-42be-be2c-88a0cfda4976",
   "metadata": {},
   "outputs": [],
   "source": [
    "if \"customerID\" in df.columns:\n",
    "    df = df.drop(\"customerID\", axis=1)"
   ]
  },
  {
   "cell_type": "code",
   "execution_count": 6,
   "id": "c0179d20-a892-44f9-97dc-6000f8cea301",
   "metadata": {},
   "outputs": [],
   "source": [
    "df[\"TotalCharges\"] = pd.to_numeric(df[\"TotalCharges\"], errors=\"coerce\")\n"
   ]
  },
  {
   "cell_type": "code",
   "execution_count": 7,
   "id": "fbd7ee59-0bc5-41d5-bd75-7cca62f28b72",
   "metadata": {},
   "outputs": [
    {
     "name": "stdout",
     "output_type": "stream",
     "text": [
      "Shape after cleaning: (7032, 20)\n"
     ]
    }
   ],
   "source": [
    "df = df.dropna().reset_index(drop=True)\n",
    "print(\"Shape after cleaning:\", df.shape)"
   ]
  },
  {
   "cell_type": "code",
   "execution_count": 8,
   "id": "d4d44e24-da41-4f32-b88c-8df598f136a1",
   "metadata": {},
   "outputs": [],
   "source": [
    "df[\"Churn\"] = df[\"Churn\"].map({\"Yes\": 1, \"No\": 0})"
   ]
  },
  {
   "cell_type": "code",
   "execution_count": 9,
   "id": "2b40d156-810e-476f-96c9-79b90661d057",
   "metadata": {},
   "outputs": [],
   "source": [
    "# Separate X,y\n",
    "X = df.drop(\"Churn\", axis=1)\n",
    "y = df[\"Churn\"]"
   ]
  },
  {
   "cell_type": "code",
   "execution_count": 10,
   "id": "55dc6735-b8e6-4b02-ac9d-669845a1e7e6",
   "metadata": {},
   "outputs": [],
   "source": [
    "# Identify numerical and categorical features programmatically\n",
    "numeric_features = X.select_dtypes(include=['int64','float64']).columns.tolist()\n",
    "categorical_features = X.select_dtypes(include=['object']).columns.tolist()"
   ]
  },
  {
   "cell_type": "code",
   "execution_count": 11,
   "id": "f89eb9e5-a8ba-415f-96c3-d37333df3c5e",
   "metadata": {},
   "outputs": [
    {
     "name": "stdout",
     "output_type": "stream",
     "text": [
      "Numeric features: ['SeniorCitizen', 'tenure', 'MonthlyCharges', 'TotalCharges']\n",
      "Categorical features: ['gender', 'Partner', 'Dependents', 'PhoneService', 'MultipleLines', 'InternetService', 'OnlineSecurity', 'OnlineBackup', 'DeviceProtection', 'TechSupport', 'StreamingTV', 'StreamingMovies', 'Contract', 'PaperlessBilling', 'PaymentMethod']\n"
     ]
    }
   ],
   "source": [
    "print(\"Numeric features:\", numeric_features)\n",
    "print(\"Categorical features:\", categorical_features)"
   ]
  },
  {
   "cell_type": "code",
   "execution_count": 12,
   "id": "5218dacf-8345-4880-a633-831be4e916ce",
   "metadata": {},
   "outputs": [],
   "source": [
    "# ---------- 3. Train/Test split (stratified) ----------\n",
    "X_train, X_test, y_train, y_test = train_test_split(\n",
    "    X, y, test_size=0.20, stratify=y, random_state=RANDOM_STATE\n",
    ")"
   ]
  },
  {
   "cell_type": "code",
   "execution_count": 15,
   "id": "5ae47627-7ffd-4a33-9ab2-6a55fd88ef4e",
   "metadata": {},
   "outputs": [],
   "source": [
    "# ---------- 4. Preprocessor (ColumnTransformer) ----------\n",
    "numeric_transformer = StandardScaler()\n",
    "categorical_transformer = OneHotEncoder(handle_unknown='ignore', sparse_output=False)\n",
    "\n",
    "\n",
    "preprocessor = ColumnTransformer(\n",
    "    transformers=[\n",
    "        (\"num\", numeric_transformer, numeric_features),\n",
    "        (\"cat\", categorical_transformer, categorical_features)\n",
    "    ],\n",
    "    remainder='drop',\n",
    "    sparse_threshold=0\n",
    ")"
   ]
  },
  {
   "cell_type": "code",
   "execution_count": 16,
   "id": "1f19a4c6-c723-4007-961c-bcb2a9289adb",
   "metadata": {},
   "outputs": [],
   "source": [
    "# Define pipelines for each model\n",
    "pipelines = {\n",
    "    \"knn\": Pipeline(steps=[\n",
    "        (\"preprocessor\", preprocessor),\n",
    "        (\"classifier\", KNeighborsClassifier())\n",
    "    ]),\n",
    "    \"svm\": Pipeline(steps=[\n",
    "        (\"preprocessor\", preprocessor),\n",
    "        (\"classifier\", SVC(probability=True))\n",
    "    ]),\n",
    "    \"logistic_regression\": Pipeline(steps=[\n",
    "        (\"preprocessor\", preprocessor),\n",
    "        (\"classifier\", LogisticRegression(max_iter=1000))\n",
    "    ])\n",
    "}"
   ]
  },
  {
   "cell_type": "code",
   "execution_count": 17,
   "id": "bf46dbfa-54a2-45d0-a750-a928845015c0",
   "metadata": {},
   "outputs": [
    {
     "name": "stdout",
     "output_type": "stream",
     "text": [
      "\n",
      "Training: knn\n",
      "knn Test Accuracy: 0.7612\n",
      "Classification Report:\n",
      "               precision    recall  f1-score   support\n",
      "\n",
      "           0       0.84      0.83      0.84      1033\n",
      "           1       0.55      0.58      0.56       374\n",
      "\n",
      "    accuracy                           0.76      1407\n",
      "   macro avg       0.70      0.70      0.70      1407\n",
      "weighted avg       0.77      0.76      0.76      1407\n",
      "\n",
      "Saved pipeline to: D:/CSE(DataScience)/Customer_Churn_Prediction/models\\churn_pipeline_knn.pkl\n",
      "\n",
      "Training: svm\n",
      "svm Test Accuracy: 0.7918\n",
      "Classification Report:\n",
      "               precision    recall  f1-score   support\n",
      "\n",
      "           0       0.83      0.90      0.86      1033\n",
      "           1       0.64      0.49      0.56       374\n",
      "\n",
      "    accuracy                           0.79      1407\n",
      "   macro avg       0.74      0.70      0.71      1407\n",
      "weighted avg       0.78      0.79      0.78      1407\n",
      "\n",
      "Saved pipeline to: D:/CSE(DataScience)/Customer_Churn_Prediction/models\\churn_pipeline_svm.pkl\n",
      "\n",
      "Training: logistic_regression\n",
      "logistic_regression Test Accuracy: 0.8038\n",
      "Classification Report:\n",
      "               precision    recall  f1-score   support\n",
      "\n",
      "           0       0.85      0.89      0.87      1033\n",
      "           1       0.65      0.57      0.61       374\n",
      "\n",
      "    accuracy                           0.80      1407\n",
      "   macro avg       0.75      0.73      0.74      1407\n",
      "weighted avg       0.80      0.80      0.80      1407\n",
      "\n",
      "Saved pipeline to: D:/CSE(DataScience)/Customer_Churn_Prediction/models\\churn_pipeline_logistic_regression.pkl\n",
      "\n",
      "All pipelines trained and saved.\n"
     ]
    }
   ],
   "source": [
    "for key, pipe in pipelines.items():\n",
    "    print(\"\\nTraining:\", key)\n",
    "    pipe.fit(X_train, y_train)\n",
    "    \n",
    "    # Evaluate on test\n",
    "    y_pred = pipe.predict(X_test)\n",
    "    acc = accuracy_score(y_test, y_pred)\n",
    "    print(f\"{key} Test Accuracy: {acc:.4f}\")\n",
    "    print(\"Classification Report:\\n\", classification_report(y_test, y_pred))\n",
    "    \n",
    "    # Save pipeline\n",
    "    filename = os.path.join(SAVE_DIR, f\"churn_pipeline_{key}.pkl\")\n",
    "    joblib.dump(pipe, filename)\n",
    "    print(\"Saved pipeline to:\", filename)\n",
    "\n",
    "print(\"\\nAll pipelines trained and saved.\")"
   ]
  },
  {
   "cell_type": "code",
   "execution_count": null,
   "id": "2121d3fa-3d58-4c45-8388-4f0c937ee605",
   "metadata": {},
   "outputs": [],
   "source": []
  }
 ],
 "metadata": {
  "kernelspec": {
   "display_name": "Python 3 (ipykernel)",
   "language": "python",
   "name": "python3"
  },
  "language_info": {
   "codemirror_mode": {
    "name": "ipython",
    "version": 3
   },
   "file_extension": ".py",
   "mimetype": "text/x-python",
   "name": "python",
   "nbconvert_exporter": "python",
   "pygments_lexer": "ipython3",
   "version": "3.11.4"
  }
 },
 "nbformat": 4,
 "nbformat_minor": 5
}
