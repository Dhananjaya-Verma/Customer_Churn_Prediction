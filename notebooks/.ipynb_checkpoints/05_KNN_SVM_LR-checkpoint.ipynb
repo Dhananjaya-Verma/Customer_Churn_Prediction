{
 "cells": [
  {
   "cell_type": "code",
   "execution_count": 1,
   "id": "c1a45a88-57a0-4506-80c6-f271a6849f47",
   "metadata": {},
   "outputs": [],
   "source": [
    "import pandas as pd\n",
    "import numpy as np\n",
    "import os\n",
    "import joblib\n",
    "\n",
    "from sklearn.model_selection import train_test_split\n",
    "from sklearn.preprocessing import StandardScaler\n",
    "from sklearn.metrics import accuracy_score, classification_report, confusion_matrix\n",
    "\n",
    "# Models\n",
    "from sklearn.svm import SVC\n",
    "from sklearn.neighbors import KNeighborsClassifier\n",
    "from sklearn.linear_model import LogisticRegression"
   ]
  },
  {
   "cell_type": "code",
   "execution_count": 2,
   "id": "dc697ae7-1fb0-4e61-aaa3-cef78e8cd498",
   "metadata": {},
   "outputs": [
    {
     "name": "stdout",
     "output_type": "stream",
     "text": [
      "✅ Dataset Loaded\n",
      "Shape before cleaning: (7043, 21)\n"
     ]
    }
   ],
   "source": [
    "df = pd.read_csv(r\"D:\\CSE(DataScience)\\Customer_Churn_Prediction\\Datasets\\Telco-Customer-Churn-dataset.csv\")\n",
    "\n",
    "print(\"✅ Dataset Loaded\")\n",
    "print(\"Shape before cleaning:\", df.shape)"
   ]
  },
  {
   "cell_type": "code",
   "execution_count": 3,
   "id": "a04f7eb7-b4df-4455-8d93-60315b093016",
   "metadata": {},
   "outputs": [],
   "source": [
    "df.drop(\"customerID\", axis=1, inplace=True)"
   ]
  },
  {
   "cell_type": "code",
   "execution_count": 4,
   "id": "136f4ab1-e643-4f5f-b6e6-bcc0d8e3922c",
   "metadata": {},
   "outputs": [],
   "source": [
    "df[\"TotalCharges\"] = pd.to_numeric(df[\"TotalCharges\"], errors=\"coerce\")"
   ]
  },
  {
   "cell_type": "code",
   "execution_count": 5,
   "id": "4636abf9-7a9b-4d16-8a53-495943756c68",
   "metadata": {},
   "outputs": [
    {
     "name": "stdout",
     "output_type": "stream",
     "text": [
      "Shape after cleaning: (7032, 20)\n"
     ]
    }
   ],
   "source": [
    "df.dropna(inplace=True)\n",
    "\n",
    "print(\"Shape after cleaning:\", df.shape)"
   ]
  },
  {
   "cell_type": "code",
   "execution_count": 6,
   "id": "004068d9-3722-49b1-a53f-fef95c27f2ac",
   "metadata": {},
   "outputs": [],
   "source": [
    "X = df.drop(\"Churn\", axis=1)\n",
    "y = df[\"Churn\"]"
   ]
  },
  {
   "cell_type": "code",
   "execution_count": 7,
   "id": "0a48dda7-7bd7-4b5e-8106-6e5699bd6258",
   "metadata": {},
   "outputs": [],
   "source": [
    "X = pd.get_dummies(X, drop_first=True)"
   ]
  },
  {
   "cell_type": "code",
   "execution_count": 8,
   "id": "7f00519f-c52d-4c77-aa59-9fe2301f5c74",
   "metadata": {},
   "outputs": [],
   "source": [
    "y = y.map({\"Yes\": 1, \"No\": 0})"
   ]
  },
  {
   "cell_type": "code",
   "execution_count": 9,
   "id": "00aac8f8-dc9f-44a5-9f83-b56e845c862e",
   "metadata": {},
   "outputs": [],
   "source": [
    "X_train, X_test, y_train, y_test = train_test_split(\n",
    "    X, y, test_size=0.2, random_state=42\n",
    ")"
   ]
  },
  {
   "cell_type": "code",
   "execution_count": 10,
   "id": "a026ed08-f466-4656-a956-8ac7f3416a45",
   "metadata": {},
   "outputs": [],
   "source": [
    "scaler = StandardScaler()\n",
    "X_train = scaler.fit_transform(X_train)\n",
    "X_test = scaler.transform(X_test)"
   ]
  },
  {
   "cell_type": "code",
   "execution_count": 11,
   "id": "7cbc0b4c-af01-47dc-ae2e-d61013e9b558",
   "metadata": {},
   "outputs": [],
   "source": [
    "save_dir = r\"D:\\CSE(DataScience)\\Customer_Churn_Prediction\\models\"\n",
    "if not os.path.exists(save_dir):\n",
    "    os.makedirs(save_dir)"
   ]
  },
  {
   "cell_type": "code",
   "execution_count": 12,
   "id": "3ecea2d7-90dd-41ae-8c8d-b842333caf1f",
   "metadata": {},
   "outputs": [],
   "source": [
    "def evaluate_and_save_model(model, model_name):\n",
    "    model.fit(X_train, y_train)\n",
    "    y_pred = model.predict(X_test)\n",
    "    \n",
    "    print(\"\\n==============================\")\n",
    "    print(f\"📊 Model: {model_name}\")\n",
    "    print(\"==============================\")\n",
    "    print(\"✅ Accuracy:\", accuracy_score(y_test, y_pred))\n",
    "    print(\"\\nClassification Report:\\n\", classification_report(y_test, y_pred))\n",
    "    print(\"Confusion Matrix:\\n\", confusion_matrix(y_test, y_pred))\n",
    "    \n",
    "    # Save model\n",
    "    save_path = os.path.join(save_dir, f\"{model_name}.pkl\")\n",
    "    joblib.dump(model, save_path)\n",
    "    print(f\"💾 {model_name} saved at {save_path}\")"
   ]
  },
  {
   "cell_type": "code",
   "execution_count": 13,
   "id": "e9d8f53b-3636-43fa-b6d8-feb7f5377a1a",
   "metadata": {},
   "outputs": [
    {
     "name": "stdout",
     "output_type": "stream",
     "text": [
      "\n",
      "==============================\n",
      "📊 Model: SVM\n",
      "==============================\n",
      "✅ Accuracy: 0.7810945273631841\n",
      "\n",
      "Classification Report:\n",
      "               precision    recall  f1-score   support\n",
      "\n",
      "           0       0.82      0.89      0.86      1033\n",
      "           1       0.62      0.47      0.53       374\n",
      "\n",
      "    accuracy                           0.78      1407\n",
      "   macro avg       0.72      0.68      0.69      1407\n",
      "weighted avg       0.77      0.78      0.77      1407\n",
      "\n",
      "Confusion Matrix:\n",
      " [[924 109]\n",
      " [199 175]]\n",
      "💾 SVM saved at D:\\CSE(DataScience)\\Customer_Churn_Prediction\\models\\SVM.pkl\n",
      "\n",
      "==============================\n",
      "📊 Model: KNN\n",
      "==============================\n",
      "✅ Accuracy: 0.7526652452025586\n",
      "\n",
      "Classification Report:\n",
      "               precision    recall  f1-score   support\n",
      "\n",
      "           0       0.83      0.84      0.83      1033\n",
      "           1       0.54      0.51      0.52       374\n",
      "\n",
      "    accuracy                           0.75      1407\n",
      "   macro avg       0.68      0.67      0.68      1407\n",
      "weighted avg       0.75      0.75      0.75      1407\n",
      "\n",
      "Confusion Matrix:\n",
      " [[869 164]\n",
      " [184 190]]\n",
      "💾 KNN saved at D:\\CSE(DataScience)\\Customer_Churn_Prediction\\models\\KNN.pkl\n",
      "\n",
      "==============================\n",
      "📊 Model: LogisticRegression\n",
      "==============================\n",
      "✅ Accuracy: 0.7874911158493249\n",
      "\n",
      "Classification Report:\n",
      "               precision    recall  f1-score   support\n",
      "\n",
      "           0       0.83      0.89      0.86      1033\n",
      "           1       0.62      0.52      0.56       374\n",
      "\n",
      "    accuracy                           0.79      1407\n",
      "   macro avg       0.73      0.70      0.71      1407\n",
      "weighted avg       0.78      0.79      0.78      1407\n",
      "\n",
      "Confusion Matrix:\n",
      " [[915 118]\n",
      " [181 193]]\n",
      "💾 LogisticRegression saved at D:\\CSE(DataScience)\\Customer_Churn_Prediction\\models\\LogisticRegression.pkl\n"
     ]
    }
   ],
   "source": [
    "evaluate_and_save_model(SVC(kernel='rbf', probability=True, random_state=42), \"SVM\")\n",
    "evaluate_and_save_model(KNeighborsClassifier(n_neighbors=5), \"KNN\")\n",
    "evaluate_and_save_model(LogisticRegression(max_iter=1000, random_state=42), \"LogisticRegression\")"
   ]
  },
  {
   "cell_type": "code",
   "execution_count": null,
   "id": "750e2185-053d-4d7e-b388-de71beaa0094",
   "metadata": {},
   "outputs": [],
   "source": []
  }
 ],
 "metadata": {
  "kernelspec": {
   "display_name": "Python 3 (ipykernel)",
   "language": "python",
   "name": "python3"
  },
  "language_info": {
   "codemirror_mode": {
    "name": "ipython",
    "version": 3
   },
   "file_extension": ".py",
   "mimetype": "text/x-python",
   "name": "python",
   "nbconvert_exporter": "python",
   "pygments_lexer": "ipython3",
   "version": "3.11.4"
  }
 },
 "nbformat": 4,
 "nbformat_minor": 5
}
